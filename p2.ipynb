{
  "nbformat": 4,
  "nbformat_minor": 0,
  "metadata": {
    "colab": {
      "name": "p2.ipynb",
      "provenance": [],
      "authorship_tag": "ABX9TyOe3pyBrsOlUI6oTUBt9wU1"
    },
    "kernelspec": {
      "name": "python3",
      "display_name": "Python 3"
    }
  },
  "cells": [
    {
      "cell_type": "markdown",
      "metadata": {
        "id": "pVhRhjbol_02"
      },
      "source": [
        "crie uma função chamada verifica_se_pode_dirigir que recebe um parâmetro chamado idade e inclua uma condicional if para analisar se a idade é maior ou igual que 18 anos. Caso seja, exiba uma mensagem na tela dizendo que Tem permissão para dirigir. Senão(else), exiba a mensagem Não tem permissão para dirigir. Depois de executar, crie a mesma função sem parâmetros, que armazena a idade digitada pelo usuário ou usuária. Como todo valor digitado através do teclado é uma string, não esqueça de converter a idade com o código int(idade).\r\n"
      ]
    },
    {
      "cell_type": "code",
      "metadata": {
        "colab": {
          "base_uri": "https://localhost:8080/"
        },
        "id": "nTKhzj08lXtk",
        "outputId": "8fa91a55-f0ab-4fd3-a158-022cddda765a"
      },
      "source": [
        "def verifica_se_pode_dirigir(idade):\r\n",
        "  if idade >= 18 :\r\n",
        "    print(\"Tem permissão\")\r\n",
        "  else:\r\n",
        "    print(\"Não tem permissão\")\r\n",
        "\r\n",
        "verifica_se_pode_dirigir(18) \r\n",
        "verifica_se_pode_dirigir(17) "
      ],
      "execution_count": 6,
      "outputs": [
        {
          "output_type": "stream",
          "text": [
            "Tem permissão\n",
            "Não tem permissão\n"
          ],
          "name": "stdout"
        }
      ]
    },
    {
      "cell_type": "code",
      "metadata": {
        "colab": {
          "base_uri": "https://localhost:8080/"
        },
        "id": "vGjn8pl7mg2G",
        "outputId": "162c2848-c39e-456b-f3ba-54b56aea7095"
      },
      "source": [
        "def verifica_se_pode_dirigir2():\r\n",
        "  idade = int(input(\"Digite sua idade:\"))\r\n",
        "  if idade >= 18 :\r\n",
        "    print(\"Tem permissão\")\r\n",
        "  else:\r\n",
        "    print(\"Não tem permissão\")\r\n",
        "\r\n",
        "verifica_se_pode_dirigir2()"
      ],
      "execution_count": 12,
      "outputs": [
        {
          "output_type": "stream",
          "text": [
            "Digite sua idade:12\n",
            "Não tem permissão\n"
          ],
          "name": "stdout"
        }
      ]
    },
    {
      "cell_type": "code",
      "metadata": {
        "id": "YNAU5BMgn2HK"
      },
      "source": [
        ""
      ],
      "execution_count": null,
      "outputs": []
    }
  ]
}