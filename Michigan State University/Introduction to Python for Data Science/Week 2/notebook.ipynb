{
 "cells": [
  {
   "cell_type": "code",
   "execution_count": 1,
   "metadata": {},
   "outputs": [],
   "source": [
    "import pandas as pd"
   ]
  },
  {
   "cell_type": "code",
   "execution_count": 74,
   "metadata": {},
   "outputs": [],
   "source": [
    "def proportion_of_education():\n",
    "    import pandas as pd\n",
    "    data = pd.read_csv('NISPUF17.csv')\n",
    "    data.drop(['Unnamed: 0'], axis = 1, inplace = True)\n",
    "    \n",
    "    ed1 = (data['EDUC1'] == 1).value_counts()[1]\n",
    "    ed2 = (data['EDUC1'] == 2).value_counts()[1]\n",
    "    ed3 = (data['EDUC1'] == 3).value_counts()[1]\n",
    "    ed4 = (data['EDUC1'] == 4).value_counts()[1]\n",
    "    total = data['EDUC1'].shape[0]\n",
    "\n",
    "    less_hschool = ed1 / total\n",
    "    hschool = ed2 / total\n",
    "    more_hschool = ed3 / total\n",
    "    college = ed4 / total\n",
    "\n",
    "    result = { 'less than high school' : less_hschool,\n",
    "               'high school' : hschool,\n",
    "               'more than high school but not college' : more_hschool,\n",
    "               'college' : college \n",
    "    }\n",
    "\n",
    "    return result"
   ]
  },
  {
   "cell_type": "code",
   "execution_count": 255,
   "metadata": {},
   "outputs": [
    {
     "name": "stdout",
     "output_type": "stream",
     "text": [
      "(1.8799187420058687, 1.5963945918878317)\n"
     ]
    }
   ],
   "source": [
    "def average_influenza_doses():\n",
    "    \n",
    "    import pandas as pd\n",
    "    data = pd.read_csv('NISPUF17.csv')\n",
    "    data.drop(['Unnamed: 0'], axis = 1, inplace = True)\n",
    "\n",
    "    data = data[['P_NUMFLU', 'CBF_01']]\n",
    "\n",
    "    received = data.query('CBF_01 == 1')\n",
    "    received = received.dropna()\n",
    "    total_vac_BM = received['P_NUMFLU'].mean()\n",
    "\n",
    "    not_received = data.query('CBF_01 == 2')\n",
    "    not_received = not_received.dropna()\n",
    "    total_vac_notBM = not_received['P_NUMFLU'].mean()\n",
    "    \n",
    "    result = (total_vac_BM, total_vac_notBM)\n",
    "    \n",
    "    return result\n",
    "\n",
    "print(average_influenza_doses())"
   ]
  },
  {
   "cell_type": "code",
   "execution_count": 297,
   "metadata": {},
   "outputs": [
    {
     "name": "stdout",
     "output_type": "stream",
     "text": [
      "{'male': 0.009675583380762664, 'female': 0.0077918259335489565}\n"
     ]
    }
   ],
   "source": [
    "def chickenpox_by_sex():\n",
    "    import pandas as pd\n",
    "    data = pd.read_csv('NISPUF17.csv')\n",
    "    data.drop(['Unnamed: 0'], axis = 1, inplace = True)\n",
    "\n",
    "    data = data[['HAD_CPOX', 'P_NUMVRC', 'SEX' ]]\n",
    "    male = data.query('SEX == 1')\n",
    "    female = data.query('SEX == 2')\n",
    "\n",
    "    male = data.query('SEX == 1')\n",
    "    male = male.dropna()\n",
    "    male_vac = male.query('P_NUMVRC >= 1')\n",
    "\n",
    "    male_contracted_vacinated = male_vac['HAD_CPOX'].value_counts()[1] \n",
    "    male_contracted_notvacinated = male_vac['HAD_CPOX'].value_counts()[2]\n",
    "\n",
    "    ratio_male = male_contracted_vacinated/male_contracted_notvacinated\n",
    "\n",
    "    female = data.query('SEX == 2')\n",
    "    female = female.dropna()\n",
    "    female_vac = female.query('P_NUMVRC >= 1')\n",
    "\n",
    "    female_contracted_vacinated = female_vac['HAD_CPOX'].value_counts()[1]\n",
    "    female_notcontracted_vacinated = female_vac['HAD_CPOX'].value_counts()[2]\n",
    "\n",
    "    ratio_female = female_contracted_vacinated/female_notcontracted_vacinated\n",
    "\n",
    "    result = {\n",
    "        'male' : ratio_male,\n",
    "        'female' : ratio_female\n",
    "    }\n",
    "    \n",
    "    return result\n",
    "\n",
    "print(chickenpox_by_sex())"
   ]
  },
  {
   "cell_type": "code",
   "execution_count": 178,
   "metadata": {},
   "outputs": [],
   "source": [
    "data = pd.read_csv('NISPUF17.csv')\n",
    "data.drop(['Unnamed: 0'], axis = 1, inplace = True)"
   ]
  },
  {
   "cell_type": "code",
   "execution_count": 335,
   "metadata": {},
   "outputs": [
    {
     "name": "stdout",
     "output_type": "stream",
     "text": [
      "0.07044873460148\n"
     ]
    }
   ],
   "source": [
    "def corr_chickenpox():\n",
    "    import scipy.stats as stats\n",
    "    import numpy as np\n",
    "    import pandas as pd\n",
    "    \n",
    "    # this is just an example dataframe\n",
    "    df=pd.DataFrame({\"had_chickenpox_column\":np.random.randint(1,3,size=(100)),\n",
    "                   \"num_chickenpox_vaccine_column\":np.random.randint(0,6,size=(100))})\n",
    "\n",
    "    # here is some stub code to actually run the correlation\n",
    "    corr, pval=stats.pearsonr(df[\"had_chickenpox_column\"],df[\"num_chickenpox_vaccine_column\"])\n",
    "    \n",
    "    data = pd.read_csv('NISPUF17.csv')\n",
    "    data.drop(['Unnamed: 0'], axis = 1, inplace = True)\n",
    "    data = data[['HAD_CPOX', 'P_NUMVRC']]\n",
    "    rename = {\n",
    "        77 : np.NaN,\n",
    "        99 : np.NaN\n",
    "    }\n",
    "    data['HAD_CPOX'] = data['HAD_CPOX'].replace(rename)\n",
    "    data = data.dropna()\n",
    "    corr, pval = stats.pearsonr(data['HAD_CPOX'], data['P_NUMVRC'])\n",
    "    \n",
    "    return corr\n",
    "\n",
    "print(corr_chickenpox())"
   ]
  }
 ],
 "metadata": {
  "kernelspec": {
   "display_name": "Python 3",
   "language": "python",
   "name": "python3"
  },
  "language_info": {
   "codemirror_mode": {
    "name": "ipython",
    "version": 3
   },
   "file_extension": ".py",
   "mimetype": "text/x-python",
   "name": "python",
   "nbconvert_exporter": "python",
   "pygments_lexer": "ipython3",
   "version": "3.8.5"
  }
 },
 "nbformat": 4,
 "nbformat_minor": 4
}
