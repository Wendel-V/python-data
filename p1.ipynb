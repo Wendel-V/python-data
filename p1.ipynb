{
  "nbformat": 4,
  "nbformat_minor": 0,
  "metadata": {
    "colab": {
      "name": "p1.ipynb",
      "provenance": [],
      "authorship_tag": "ABX9TyP3V4VCHT4i8QC1K89QtQNw"
    },
    "kernelspec": {
      "name": "python3",
      "display_name": "Python 3"
    }
  },
  "cells": [
    {
      "cell_type": "markdown",
      "metadata": {
        "id": "pVhRhjbol_02"
      },
      "source": [
        "crie uma função chamada verifica_se_pode_dirigir que recebe um parâmetro chamado idade e inclua uma condicional if para analisar se a idade é maior ou igual que 18 anos. Caso seja, exiba uma mensagem na tela dizendo que Tem permissão para dirigir. Senão(else), exiba a mensagem Não tem permissão para dirigir. Depois de executar, crie a mesma função sem parâmetros, que armazena a idade digitada pelo usuário ou usuária. Como todo valor digitado através do teclado é uma string, não esqueça de converter a idade com o código int(idade).\r\n"
      ]
    },
    {
      "cell_type": "code",
      "metadata": {
        "colab": {
          "base_uri": "https://localhost:8080/"
        },
        "id": "nTKhzj08lXtk",
        "outputId": "8fa91a55-f0ab-4fd3-a158-022cddda765a"
      },
      "source": [
        "def verifica_se_pode_dirigir(idade):\r\n",
        "  if idade >= 18 :\r\n",
        "    print(\"Tem permissão\")\r\n",
        "  else:\r\n",
        "    print(\"Não tem permissão\")\r\n",
        "\r\n",
        "verifica_se_pode_dirigir(18) \r\n",
        "verifica_se_pode_dirigir(17) "
      ],
      "execution_count": 6,
      "outputs": [
        {
          "output_type": "stream",
          "text": [
            "Tem permissão\n",
            "Não tem permissão\n"
          ],
          "name": "stdout"
        }
      ]
    },
    {
      "cell_type": "code",
      "metadata": {
        "colab": {
          "base_uri": "https://localhost:8080/"
        },
        "id": "vGjn8pl7mg2G",
        "outputId": "162c2848-c39e-456b-f3ba-54b56aea7095"
      },
      "source": [
        "def verifica_se_pode_dirigir2():\r\n",
        "  idade = int(input(\"Digite sua idade:\"))\r\n",
        "  if idade >= 18 :\r\n",
        "    print(\"Tem permissão\")\r\n",
        "  else:\r\n",
        "    print(\"Não tem permissão\")\r\n",
        "\r\n",
        "verifica_se_pode_dirigir2()"
      ],
      "execution_count": 12,
      "outputs": [
        {
          "output_type": "stream",
          "text": [
            "Digite sua idade:12\n",
            "Não tem permissão\n"
          ],
          "name": "stdout"
        }
      ]
    },
    {
      "cell_type": "markdown",
      "metadata": {
        "id": "Lv16mVoPwnb2"
      },
      "source": [
        "crie uma lista chamada idades para armazenar várias idades. Em seguida, passe essa lista como parâmetro para uma função chamada verifica_se_pode_dirigir e para cada idade dentro da lista, verifique se a idade é maior ou igual a 18 anos. Se for, exiba a idade e a mensagem Tem permissão. Caso contrário, exiba a mensagem Não tem permissão."
      ]
    },
    {
      "cell_type": "code",
      "metadata": {
        "colab": {
          "base_uri": "https://localhost:8080/"
        },
        "id": "YOin87fswqZO",
        "outputId": "5c2967dc-3c25-4f0e-c704-be57eaf9dd1c"
      },
      "source": [
        "idades = [12, 18, 16, 21, 27, 42, 15]\r\n",
        "\r\n",
        "def verifica_se_pode_dirigir3(idades):\r\n",
        "  for n in idades:\r\n",
        "    if n >= 18:\r\n",
        "      print(f\"{n} Tem permissão\")\r\n",
        "    else:\r\n",
        "      print(f\"{n} Não tem permissão\")\r\n",
        "\r\n",
        "verifica_se_pode_dirigir3(idades)"
      ],
      "execution_count": 14,
      "outputs": [
        {
          "output_type": "stream",
          "text": [
            "12 Não tem permissão\n",
            "18 Tem permissão\n",
            "16 Não tem permissão\n",
            "21 Tem permissão\n",
            "27 Tem permissão\n",
            "42 Tem permissão\n",
            "15 Não tem permissão\n"
          ],
          "name": "stdout"
        }
      ]
    },
    {
      "cell_type": "markdown",
      "metadata": {
        "id": "nj5l2ZXpzemG"
      },
      "source": [
        " importe os métodos randrange e seed, crie 8 notas de 0 a 10, armazenando seu conteúdo numa variável chamada notas_matematica. Como os números gerados são chamados de pseudo aleatórios, utilize o método seed escolhendo um valor de referência.\r\n"
      ]
    },
    {
      "cell_type": "code",
      "metadata": {
        "colab": {
          "base_uri": "https://localhost:8080/"
        },
        "id": "NdSqEFI_zk3m",
        "outputId": "48da61eb-0918-4884-d137-597b8ae64479"
      },
      "source": [
        "from random import randrange,seed\r\n",
        "\r\n",
        "seed(10)\r\n",
        "notas_matematica = []\r\n",
        "\r\n",
        "for n in range(8):\r\n",
        "  notas_matematica.append(randrange(0,10))\r\n",
        "\r\n",
        "print(notas_matematica)"
      ],
      "execution_count": 31,
      "outputs": [
        {
          "output_type": "stream",
          "text": [
            "[9, 0, 6, 7, 9, 0, 3, 7]\n"
          ],
          "name": "stdout"
        }
      ]
    },
    {
      "cell_type": "markdown",
      "metadata": {
        "id": "I4kS0RAE2llx"
      },
      "source": [
        "importe o módulo matplotlib.pyplot, dando a ele o apelido plt geralmente dado pela comunidade Python. Em seguida, plote o gráfico das 8 notas de matemática, de forma que o eixo x indique as provas e no eixo y as notas, incluindo o título Notas de matemática."
      ]
    },
    {
      "cell_type": "code",
      "metadata": {
        "id": "wLkR8eFMz11N"
      },
      "source": [
        "import matplotlib.pyplot as plt"
      ],
      "execution_count": 32,
      "outputs": []
    },
    {
      "cell_type": "code",
      "metadata": {
        "colab": {
          "base_uri": "https://localhost:8080/",
          "height": 295
        },
        "id": "96RHS0-B1i56",
        "outputId": "4147d713-eca5-4282-bc97-8a7f53877ab9"
      },
      "source": [
        "x = list(range(1,9))\r\n",
        "y = notas_matematica\r\n",
        "\r\n",
        "plt.plot(x,y, marker='o')\r\n",
        "plt.title('Notas de Matemática')\r\n",
        "plt.xlabel(\"Provas\")\r\n",
        "plt.ylabel(\"Notas\")\r\n",
        "plt.show()"
      ],
      "execution_count": 43,
      "outputs": [
        {
          "output_type": "display_data",
          "data": {
            "image/png": "[encoded data removed]",
            "text/plain": [
              "<Figure size 432x288 with 1 Axes>"
            ]
          },
          "metadata": {
            "tags": [],
            "needs_background": "light"
          }
        }
      ]
    },
    {
      "cell_type": "code",
      "metadata": {
        "id": "AU2jPzzl29DT"
      },
      "source": [
        ""
      ],
      "execution_count": null,
      "outputs": []
    }
  ]
}