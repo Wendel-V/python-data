{
 "cells": [
  {
   "cell_type": "code",
   "execution_count": 262,
   "metadata": {},
   "outputs": [
    {
     "name": "stdout",
     "output_type": "stream",
     "text": [
      "Tabela de kercardoso completamente atualizada!\n",
      "Tabela de juliette.freire completamente atualizada!\n",
      "Tabela de arthurpicoli completamente atualizada!\n",
      "Tabela de afiune_caio completamente atualizada!\n",
      "Tabela de joaolpedrosa completamente atualizada!\n",
      "Tabela de bilaraujjo completamente atualizada!\n",
      "Tabela de carladiaz completamente atualizada!\n",
      "Tabela de karolconka completamente atualizada!\n",
      "Tabela de camilladelucas completamente atualizada!\n",
      "Tabela de pocah completamente atualizada!\n",
      "Tabela de negodioficial completamente atualizada!\n",
      "Tabela de lucaskokapenteado completamente atualizada!\n",
      "Tabela de irodolffo completamente atualizada!\n",
      "Tabela de lumena.aleluia completamente atualizada!\n",
      "Tabela de gilnogueiraofc completamente atualizada!\n",
      "Tabela de viihtube completamente atualizada!\n",
      "Tabela de sarah_andrade completamente atualizada!\n",
      "Tabela de projota completamente atualizada!\n",
      "Tabela de fiuk completamente atualizada!\n",
      "Tabela de thaisfbraz completamente atualizada!\n"
     ]
    }
   ],
   "source": [
    "# Importando bibliotecas\n",
    "import pandas as pd\n",
    "from datetime import datetime\n",
    "from datetime import timedelta\n",
    "\n",
    "# Adiciona nova linha no DataFrame principal\n",
    "def addRow(base_df, df):\n",
    "    new_row = {'data' : str(df.iloc[-1][0]),\n",
    "       'dia' : str(df.iloc[-1][1]),\n",
    "       'seguidores' : str(df.iloc[-1][2]), \n",
    "       'seguindo' : str(df.iloc[-1][3]) , \n",
    "       'posts' : str(df.iloc[-1][4]) }\n",
    "    return base_df.append(new_row, ignore_index = True)  \n",
    "\n",
    "# Junta as linhas de todos os DataFrames das pastas presentes de um usuario\n",
    "def joinAllDays(user):\n",
    "    initial_day = '19-02-2021'\n",
    "    day = (datetime.strptime(initial_day, \"%d-%m-%Y\") + timedelta(days = 0)).strftime(\"%d-%m-%Y\")\n",
    "    df_base = pd.read_csv(f'participantes/dados/{day}/{user}.csv')\n",
    "    i = 1\n",
    "    exists = True\n",
    "    while exists:\n",
    "        try:\n",
    "            day = (datetime.strptime(initial_day, \"%d-%m-%Y\") + timedelta(days = i)).strftime(\"%d-%m-%Y\")\n",
    "            new_df = pd.read_csv(f'participantes/dados/{day}/{user}.csv')\n",
    "            df_base = addRow(df_base, new_df)\n",
    "            i += 1\n",
    "        except:\n",
    "            exists = False\n",
    "            print(f'Tabela de {user} completamente atualizada!')\n",
    "    return df_base\n",
    "\n",
    "# Unifica os dados de todos os usuarios e cria um .csv para cada um na pasta 'total'\n",
    "def updateAll(file_name):\n",
    "    file = open('participantes/usuarios/' + file_name + '.txt')\n",
    "    user_list = file.read().split()\n",
    "    for user in user_list:\n",
    "        df = joinAllDays(user)\n",
    "        df.to_csv(f'participantes/dados/total/{user}.csv', index = False)\n",
    "    file.close()\n",
    "    \n",
    "# Executa a função\n",
    "updateAll('nomes')"
   ]
  },
  {
   "cell_type": "code",
   "execution_count": 146,
   "metadata": {},
   "outputs": [],
   "source": [
    "# Convertendo dados adicionados\n",
    "\n",
    "data['data'] = pd.to_datetime(data['data'])\n",
    "data['dia'] = data['dia'].astype(str)\n",
    "data['seguidores'] = pd.to_numeric(data['seguidores'])\n",
    "data['seguindo'] = pd.to_numeric(data['seguindo'])\n",
    "data['posts'] = pd.to_numeric(data['posts'])"
   ]
  }
 ],
 "metadata": {
  "kernelspec": {
   "display_name": "Python 3",
   "language": "python",
   "name": "python3"
  },
  "language_info": {
   "codemirror_mode": {
    "name": "ipython",
    "version": 3
   },
   "file_extension": ".py",
   "mimetype": "text/x-python",
   "name": "python",
   "nbconvert_exporter": "python",
   "pygments_lexer": "ipython3",
   "version": "3.8.5"
  }
 },
 "nbformat": 4,
 "nbformat_minor": 4
}
